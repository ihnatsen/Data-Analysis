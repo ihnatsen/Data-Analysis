{
 "cells": [
  {
   "cell_type": "code",
   "id": "initial_id",
   "metadata": {
    "collapsed": true,
    "ExecuteTime": {
     "end_time": "2024-07-18T20:59:30.508075Z",
     "start_time": "2024-07-18T20:59:30.293073Z"
    }
   },
   "source": "import numpy as np",
   "outputs": [],
   "execution_count": 1
  },
  {
   "metadata": {
    "ExecuteTime": {
     "end_time": "2024-07-18T21:05:08.789767Z",
     "start_time": "2024-07-18T21:05:08.781951Z"
    }
   },
   "cell_type": "code",
   "source": [
    "x_points = np.arange(-5, 5)\n",
    "y_points = np.arange(-10, 0)\n",
    "np.add(x_points+4, y_points+3)"
   ],
   "id": "9d46aeedda0da46b",
   "outputs": [
    {
     "data": {
      "text/plain": [
       "array([-8, -6, -4, -2,  0,  2,  4,  6,  8, 10])"
      ]
     },
     "execution_count": 9,
     "metadata": {},
     "output_type": "execute_result"
    }
   ],
   "execution_count": 9
  },
  {
   "metadata": {
    "ExecuteTime": {
     "end_time": "2024-07-18T21:13:43.152748Z",
     "start_time": "2024-07-18T21:13:43.144769Z"
    }
   },
   "cell_type": "code",
   "source": [
    "x_arr = np.ones(10)\n",
    "y_arr = np.zeros_like(x_arr)\n",
    "cond = np.array([True, False]*5)\n",
    "results = np.where(cond, x_arr, y_arr)"
   ],
   "id": "eb5226b0a4cd44c3",
   "outputs": [
    {
     "data": {
      "text/plain": [
       "array([1., 0., 1., 0., 1., 0., 1., 0., 1., 0.])"
      ]
     },
     "execution_count": 16,
     "metadata": {},
     "output_type": "execute_result"
    }
   ],
   "execution_count": 16
  },
  {
   "metadata": {
    "ExecuteTime": {
     "end_time": "2024-07-18T21:23:59.639909Z",
     "start_time": "2024-07-18T21:23:59.632183Z"
    }
   },
   "cell_type": "code",
   "source": "np.isin(np.ones(10), 1)",
   "id": "670c6741e05115a",
   "outputs": [
    {
     "data": {
      "text/plain": [
       "array([ True,  True,  True,  True,  True,  True,  True,  True,  True,\n",
       "        True])"
      ]
     },
     "execution_count": 32,
     "metadata": {},
     "output_type": "execute_result"
    }
   ],
   "execution_count": 32
  },
  {
   "metadata": {
    "ExecuteTime": {
     "end_time": "2024-07-18T21:25:09.544223Z",
     "start_time": "2024-07-18T21:25:09.539047Z"
    }
   },
   "cell_type": "code",
   "source": "np.isin('ivan', 'ivan')",
   "id": "6c7e521f0ee71168",
   "outputs": [
    {
     "data": {
      "text/plain": [
       "array(True)"
      ]
     },
     "execution_count": 34,
     "metadata": {},
     "output_type": "execute_result"
    }
   ],
   "execution_count": 34
  },
  {
   "metadata": {},
   "cell_type": "code",
   "outputs": [],
   "execution_count": null,
   "source": "",
   "id": "a6fb81a3b1adc55"
  }
 ],
 "metadata": {
  "kernelspec": {
   "display_name": "Python 3",
   "language": "python",
   "name": "python3"
  },
  "language_info": {
   "codemirror_mode": {
    "name": "ipython",
    "version": 2
   },
   "file_extension": ".py",
   "mimetype": "text/x-python",
   "name": "python",
   "nbconvert_exporter": "python",
   "pygments_lexer": "ipython2",
   "version": "2.7.6"
  }
 },
 "nbformat": 4,
 "nbformat_minor": 5
}
