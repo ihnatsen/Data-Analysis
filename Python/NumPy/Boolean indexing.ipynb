{
 "cells": [
  {
   "cell_type": "code",
   "id": "initial_id",
   "metadata": {
    "collapsed": true,
    "ExecuteTime": {
     "end_time": "2024-07-18T16:59:22.995229Z",
     "start_time": "2024-07-18T16:59:22.688590Z"
    }
   },
   "source": "import numpy as np",
   "outputs": [],
   "execution_count": 1
  },
  {
   "metadata": {
    "ExecuteTime": {
     "end_time": "2024-07-18T17:06:10.788458Z",
     "start_time": "2024-07-18T17:06:10.759503Z"
    }
   },
   "cell_type": "code",
   "source": [
    "names = np.array(['Bob', 'Alan', 'Jon', 'Bill', 'Kate', 'Bob'])\n",
    "values = np.array([1, 2, 3, 4, 5, 6])\n",
    "name = 'Bob'\n",
    "values1 =  np.array(values[[True]*6], dtype=str)\n",
    "values1[0] = 'JOJ'"
   ],
   "id": "e0c332f44f997c3e",
   "outputs": [
    {
     "ename": "IndexError",
     "evalue": "boolean index did not match indexed array along axis 0; size of axis is 12 but size of corresponding boolean axis is 6",
     "output_type": "error",
     "traceback": [
      "\u001B[1;31m---------------------------------------------------------------------------\u001B[0m",
      "\u001B[1;31mIndexError\u001B[0m                                Traceback (most recent call last)",
      "Cell \u001B[1;32mIn[17], line 4\u001B[0m\n\u001B[0;32m      2\u001B[0m values \u001B[38;5;241m=\u001B[39m np\u001B[38;5;241m.\u001B[39marray([\u001B[38;5;241m1\u001B[39m, \u001B[38;5;241m2\u001B[39m, \u001B[38;5;241m3\u001B[39m, \u001B[38;5;241m4\u001B[39m, \u001B[38;5;241m5\u001B[39m, \u001B[38;5;241m6\u001B[39m]\u001B[38;5;241m*\u001B[39m\u001B[38;5;241m2\u001B[39m)\n\u001B[0;32m      3\u001B[0m name \u001B[38;5;241m=\u001B[39m \u001B[38;5;124m'\u001B[39m\u001B[38;5;124mBob\u001B[39m\u001B[38;5;124m'\u001B[39m\n\u001B[1;32m----> 4\u001B[0m values1 \u001B[38;5;241m=\u001B[39m  np\u001B[38;5;241m.\u001B[39marray(\u001B[43mvalues\u001B[49m\u001B[43m[\u001B[49m\u001B[43m[\u001B[49m\u001B[38;5;28;43;01mTrue\u001B[39;49;00m\u001B[43m]\u001B[49m\u001B[38;5;241;43m*\u001B[39;49m\u001B[38;5;241;43m6\u001B[39;49m\u001B[43m]\u001B[49m, dtype\u001B[38;5;241m=\u001B[39m\u001B[38;5;28mstr\u001B[39m)\n\u001B[0;32m      5\u001B[0m values1[\u001B[38;5;241m0\u001B[39m] \u001B[38;5;241m=\u001B[39m \u001B[38;5;124m'\u001B[39m\u001B[38;5;124mJOJ\u001B[39m\u001B[38;5;124m'\u001B[39m\n\u001B[0;32m      6\u001B[0m values\n",
      "\u001B[1;31mIndexError\u001B[0m: boolean index did not match indexed array along axis 0; size of axis is 12 but size of corresponding boolean axis is 6"
     ]
    }
   ],
   "execution_count": 17
  },
  {
   "metadata": {
    "ExecuteTime": {
     "end_time": "2024-07-18T17:41:25.020209Z",
     "start_time": "2024-07-18T17:41:25.009870Z"
    }
   },
   "cell_type": "code",
   "source": [
    "names = np.array(['Bob', 'Joe', 'Will', 'Bob', 'Will', 'Joe', 'Joe']*2, dtype='<U4')\n",
    "\n",
    "data = np.array([[4, 7], [0, 2], [-5, 6], [0, 0], [1, 2], [-12, -4], [3, 4]]*2)\n",
    "\n",
    "mask = ~((names == 'Bob') | (names=='Joe'))\n",
    "data[mask]"
   ],
   "id": "2c15bd36bea8870a",
   "outputs": [
    {
     "data": {
      "text/plain": [
       "array([[-5,  6],\n",
       "       [ 1,  2],\n",
       "       [-5,  6],\n",
       "       [ 1,  2]])"
      ]
     },
     "execution_count": 75,
     "metadata": {},
     "output_type": "execute_result"
    }
   ],
   "execution_count": 75
  },
  {
   "metadata": {
    "ExecuteTime": {
     "end_time": "2024-07-18T17:41:27.496270Z",
     "start_time": "2024-07-18T17:41:27.490874Z"
    }
   },
   "cell_type": "code",
   "source": [
    "data[data < 0] = 0\n",
    "data\n"
   ],
   "id": "9f3ab1d857efc5b9",
   "outputs": [
    {
     "data": {
      "text/plain": [
       "array([[4, 7],\n",
       "       [0, 2],\n",
       "       [0, 6],\n",
       "       [0, 0],\n",
       "       [1, 2],\n",
       "       [0, 0],\n",
       "       [3, 4],\n",
       "       [4, 7],\n",
       "       [0, 2],\n",
       "       [0, 6],\n",
       "       [0, 0],\n",
       "       [1, 2],\n",
       "       [0, 0],\n",
       "       [3, 4]])"
      ]
     },
     "execution_count": 76,
     "metadata": {},
     "output_type": "execute_result"
    }
   ],
   "execution_count": 76
  },
  {
   "metadata": {},
   "cell_type": "code",
   "outputs": [],
   "execution_count": null,
   "source": "",
   "id": "ae427b754ca0fcfc"
  }
 ],
 "metadata": {
  "kernelspec": {
   "display_name": "Python 3",
   "language": "python",
   "name": "python3"
  },
  "language_info": {
   "codemirror_mode": {
    "name": "ipython",
    "version": 2
   },
   "file_extension": ".py",
   "mimetype": "text/x-python",
   "name": "python",
   "nbconvert_exporter": "python",
   "pygments_lexer": "ipython2",
   "version": "2.7.6"
  }
 },
 "nbformat": 4,
 "nbformat_minor": 5
}
