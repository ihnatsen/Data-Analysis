{
 "cells": [
  {
   "cell_type": "code",
   "id": "initial_id",
   "metadata": {
    "collapsed": true,
    "ExecuteTime": {
     "end_time": "2024-07-18T18:10:29.168290Z",
     "start_time": "2024-07-18T18:10:29.126331Z"
    }
   },
   "source": [
    "import numpy as np\n",
    "samples = np.random.standard_normal(1_000_000)\n",
    "samples.var(), samples.mean()"
   ],
   "outputs": [
    {
     "data": {
      "text/plain": [
       "(np.float64(1.002174666543467), np.float64(-0.001266891836735187))"
      ]
     },
     "execution_count": 25,
     "metadata": {},
     "output_type": "execute_result"
    }
   ],
   "execution_count": 25
  },
  {
   "metadata": {
    "ExecuteTime": {
     "end_time": "2024-07-18T18:11:18.099206Z",
     "start_time": "2024-07-18T18:11:18.091708Z"
    }
   },
   "cell_type": "code",
   "source": [
    "# setup seed\n",
    "rng = np.random.default_rng(seed=123)\n",
    "data = rng.standard_normal(20)\n",
    "data"
   ],
   "id": "1c07945a9503b2",
   "outputs": [
    {
     "data": {
      "text/plain": [
       "array([-0.98912135, -0.36778665,  1.28792526,  0.19397442,  0.9202309 ,\n",
       "        0.57710379, -0.63646365,  0.54195222, -0.31659545, -0.32238912,\n",
       "        0.09716732, -1.52593041,  1.1921661 , -0.67108968,  1.00026942,\n",
       "        0.13632112,  1.53203308, -0.65996941, -0.31179486,  0.33776913])"
      ]
     },
     "execution_count": 31,
     "metadata": {},
     "output_type": "execute_result"
    }
   ],
   "execution_count": 31
  },
  {
   "metadata": {
    "ExecuteTime": {
     "end_time": "2024-07-18T18:21:02.335670Z",
     "start_time": "2024-07-18T18:21:02.329177Z"
    }
   },
   "cell_type": "code",
   "source": [
    "rng123 = np.random.default_rng(seed=123)\n",
    "arr = rng123.standard_normal(20)\n",
    "shuf_arr = np.array(arr)\n",
    "rng123.shuffle(shuf_arr)\n",
    "print(arr,'\\n'*2, shuf_arr)"
   ],
   "id": "69a9b126197b4e1f",
   "outputs": [
    {
     "name": "stdout",
     "output_type": "stream",
     "text": [
      "[-0.98912135 -0.36778665  1.28792526  0.19397442  0.9202309   0.57710379\n",
      " -0.63646365  0.54195222 -0.31659545 -0.32238912  0.09716732 -1.52593041\n",
      "  1.1921661  -0.67108968  1.00026942  0.13632112  1.53203308 -0.65996941\n",
      " -0.31179486  0.33776913] \n",
      "\n",
      " [ 0.13632112 -0.98912135 -0.32238912  0.54195222 -0.65996941  0.9202309\n",
      " -0.63646365  1.53203308 -0.67108968  0.19397442  1.28792526  0.33776913\n",
      "  1.00026942  0.09716732 -0.31179486  1.1921661   0.57710379 -0.36778665\n",
      " -0.31659545 -1.52593041]\n"
     ]
    }
   ],
   "execution_count": 58
  },
  {
   "metadata": {
    "ExecuteTime": {
     "end_time": "2024-07-18T18:24:32.868375Z",
     "start_time": "2024-07-18T18:24:32.861679Z"
    }
   },
   "cell_type": "code",
   "source": [
    "rng321  = np.random.default_rng(seed=321)\n",
    "arr = rng123.standard_normal(20)\n",
    "rng321.permutation(arr)"
   ],
   "id": "92c0e300cacc31a0",
   "outputs": [
    {
     "data": {
      "text/plain": [
       "array([ 0.14127312,  0.19908526, -1.31596718, -2.8513693 ,  1.04601695,\n",
       "       -0.1045731 ,  0.32475403,  1.33324166,  0.03202624,  1.55459399,\n",
       "        1.36093864, -0.45806133, -0.80158557, -2.25126341,  0.71595548,\n",
       "       -2.27517231,  0.14643165, -1.16608698,  1.22028035, -0.55339271])"
      ]
     },
     "execution_count": 76,
     "metadata": {},
     "output_type": "execute_result"
    }
   ],
   "execution_count": 76
  },
  {
   "metadata": {
    "ExecuteTime": {
     "end_time": "2024-07-18T18:27:51.638469Z",
     "start_time": "2024-07-18T18:27:51.604989Z"
    }
   },
   "cell_type": "code",
   "source": "",
   "id": "8635a78aeff19e54",
   "outputs": [
    {
     "ename": "AxisError",
     "evalue": "axis 2 is out of bounds for array of dimension 2",
     "output_type": "error",
     "traceback": [
      "\u001B[1;31m---------------------------------------------------------------------------\u001B[0m",
      "\u001B[1;31mAxisError\u001B[0m                                 Traceback (most recent call last)",
      "Cell \u001B[1;32mIn[91], line 10\u001B[0m\n\u001B[0;32m      7\u001B[0m arr \u001B[38;5;241m=\u001B[39m np\u001B[38;5;241m.\u001B[39marray([[\u001B[38;5;241m1\u001B[39m, \u001B[38;5;241m2\u001B[39m, \u001B[38;5;241m3\u001B[39m, \u001B[38;5;241m4\u001B[39m, \u001B[38;5;241m5\u001B[39m]]\u001B[38;5;241m*\u001B[39m\u001B[38;5;241m2\u001B[39m)\n\u001B[0;32m      9\u001B[0m \u001B[38;5;66;03m# Randomly permute the array\u001B[39;00m\n\u001B[1;32m---> 10\u001B[0m permuted_array \u001B[38;5;241m=\u001B[39m \u001B[43mrng321\u001B[49m\u001B[38;5;241;43m.\u001B[39;49m\u001B[43mpermutation\u001B[49m\u001B[43m(\u001B[49m\u001B[43marr\u001B[49m\u001B[43m,\u001B[49m\u001B[43m \u001B[49m\u001B[38;5;241;43m2\u001B[39;49m\u001B[43m)\u001B[49m\n\u001B[0;32m     11\u001B[0m \u001B[38;5;28mprint\u001B[39m(permuted_array)\n",
      "File \u001B[1;32mnumpy\\\\random\\\\_generator.pyx:4981\u001B[0m, in \u001B[0;36mnumpy.random._generator.Generator.permutation\u001B[1;34m()\u001B[0m\n",
      "\u001B[1;31mAxisError\u001B[0m: axis 2 is out of bounds for array of dimension 2"
     ]
    }
   ],
   "execution_count": 91
  },
  {
   "metadata": {},
   "cell_type": "code",
   "outputs": [],
   "execution_count": null,
   "source": "",
   "id": "6b2a980905adcab7"
  }
 ],
 "metadata": {
  "kernelspec": {
   "display_name": "Python 3",
   "language": "python",
   "name": "python3"
  },
  "language_info": {
   "codemirror_mode": {
    "name": "ipython",
    "version": 2
   },
   "file_extension": ".py",
   "mimetype": "text/x-python",
   "name": "python",
   "nbconvert_exporter": "python",
   "pygments_lexer": "ipython2",
   "version": "2.7.6"
  }
 },
 "nbformat": 4,
 "nbformat_minor": 5
}
