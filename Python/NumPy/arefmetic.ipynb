{
 "cells": [
  {
   "cell_type": "code",
   "id": "initial_id",
   "metadata": {
    "collapsed": true,
    "ExecuteTime": {
     "end_time": "2024-07-18T16:24:04.541409Z",
     "start_time": "2024-07-18T16:24:04.537073Z"
    }
   },
   "source": "import numpy as np",
   "outputs": [],
   "execution_count": 2
  },
  {
   "metadata": {
    "ExecuteTime": {
     "end_time": "2024-07-18T16:25:53.279134Z",
     "start_time": "2024-07-18T16:25:53.267967Z"
    }
   },
   "cell_type": "code",
   "source": [
    "arr1 = np.array([.1, .2, .132, .203])\n",
    "print(arr1 + 1)\n",
    "print(arr1 * 2)\n",
    "print(arr1 / 3)\n",
    "print(arr1**2)\n",
    "print(arr1 * arr1)\n",
    "arr1+=1\n",
    "arr2 = arr1 + 3\n",
    "arr1 <= arr2"
   ],
   "id": "d2f12d26d44b9562",
   "outputs": [
    {
     "name": "stdout",
     "output_type": "stream",
     "text": [
      "[1.1   1.2   1.132 1.203]\n",
      "[0.2   0.4   0.264 0.406]\n",
      "[0.03333333 0.06666667 0.044      0.06766667]\n",
      "[0.01     0.04     0.017424 0.041209]\n",
      "[0.01     0.04     0.017424 0.041209]\n"
     ]
    },
    {
     "data": {
      "text/plain": [
       "array([ True,  True,  True,  True])"
      ]
     },
     "execution_count": 7,
     "metadata": {},
     "output_type": "execute_result"
    }
   ],
   "execution_count": 7
  },
  {
   "metadata": {},
   "cell_type": "code",
   "outputs": [],
   "execution_count": null,
   "source": "",
   "id": "cdb5f25a542c8117"
  }
 ],
 "metadata": {
  "kernelspec": {
   "display_name": "Python 3",
   "language": "python",
   "name": "python3"
  },
  "language_info": {
   "codemirror_mode": {
    "name": "ipython",
    "version": 2
   },
   "file_extension": ".py",
   "mimetype": "text/x-python",
   "name": "python",
   "nbconvert_exporter": "python",
   "pygments_lexer": "ipython2",
   "version": "2.7.6"
  }
 },
 "nbformat": 4,
 "nbformat_minor": 5
}
