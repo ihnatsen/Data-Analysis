{
 "cells": [
  {
   "metadata": {
    "ExecuteTime": {
     "end_time": "2024-07-18T17:42:18.443732Z",
     "start_time": "2024-07-18T17:42:17.825476Z"
    }
   },
   "cell_type": "code",
   "source": "import numpy as np",
   "id": "1839b0fb54d54c1c",
   "outputs": [],
   "execution_count": 1
  },
  {
   "cell_type": "code",
   "id": "initial_id",
   "metadata": {
    "collapsed": true,
    "ExecuteTime": {
     "end_time": "2024-07-18T17:54:30.457750Z",
     "start_time": "2024-07-18T17:54:30.448883Z"
    }
   },
   "source": [
    "bord = np.array([np.array([i]*8) for i in range(8)])\n",
    "bord[[1, 3, 4]]\n"
   ],
   "outputs": [
    {
     "data": {
      "text/plain": [
       "array([[1, 1, 1, 1, 1, 1, 1, 1],\n",
       "       [3, 3, 3, 3, 3, 3, 3, 3],\n",
       "       [4, 4, 4, 4, 4, 4, 4, 4]])"
      ]
     },
     "execution_count": 3,
     "metadata": {},
     "output_type": "execute_result"
    }
   ],
   "execution_count": 3
  },
  {
   "metadata": {
    "ExecuteTime": {
     "end_time": "2024-07-18T17:55:19.143719Z",
     "start_time": "2024-07-18T17:55:19.136100Z"
    }
   },
   "cell_type": "code",
   "source": "bord[[-1, -2, -3]][:,:4]",
   "id": "a3e6ba2b31f09ffe",
   "outputs": [
    {
     "data": {
      "text/plain": [
       "array([[7, 7, 7, 7],\n",
       "       [6, 6, 6, 6],\n",
       "       [5, 5, 5, 5]])"
      ]
     },
     "execution_count": 6,
     "metadata": {},
     "output_type": "execute_result"
    }
   ],
   "execution_count": 6
  },
  {
   "metadata": {
    "ExecuteTime": {
     "end_time": "2024-07-18T17:59:31.971123Z",
     "start_time": "2024-07-18T17:59:31.965294Z"
    }
   },
   "cell_type": "code",
   "source": [
    "data = np.arange(8*6).reshape(8,6)\n",
    "# [1, 45, 16]\n",
    "data[[0,-1, 2], [1, 3, 4]]"
   ],
   "id": "c913fe9c4d3d079b",
   "outputs": [
    {
     "data": {
      "text/plain": [
       "array([ 1, 45, 16])"
      ]
     },
     "execution_count": 10,
     "metadata": {},
     "output_type": "execute_result"
    }
   ],
   "execution_count": 10
  },
  {
   "metadata": {},
   "cell_type": "code",
   "outputs": [],
   "execution_count": null,
   "source": "",
   "id": "1bc0ca114239888f"
  }
 ],
 "metadata": {
  "kernelspec": {
   "display_name": "Python 3",
   "language": "python",
   "name": "python3"
  },
  "language_info": {
   "codemirror_mode": {
    "name": "ipython",
    "version": 2
   },
   "file_extension": ".py",
   "mimetype": "text/x-python",
   "name": "python",
   "nbconvert_exporter": "python",
   "pygments_lexer": "ipython2",
   "version": "2.7.6"
  }
 },
 "nbformat": 4,
 "nbformat_minor": 5
}
