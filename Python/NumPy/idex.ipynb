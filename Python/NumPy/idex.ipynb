{
 "cells": [
  {
   "cell_type": "code",
   "id": "initial_id",
   "metadata": {
    "collapsed": true,
    "ExecuteTime": {
     "end_time": "2024-07-18T16:36:31.874182Z",
     "start_time": "2024-07-18T16:36:31.650036Z"
    }
   },
   "source": "import numpy as np",
   "outputs": [],
   "execution_count": 1
  },
  {
   "metadata": {
    "ExecuteTime": {
     "end_time": "2024-07-18T16:43:35.451848Z",
     "start_time": "2024-07-18T16:43:35.443666Z"
    }
   },
   "cell_type": "code",
   "source": [
    "arr = np.astype(np.arange(1, 10, 0.5), str)\n",
    "arr[5:8] = ['*']*3\n",
    "\n",
    "arr_slice = arr[4:10]\n",
    "arr_slice[:] = [12]*6\n",
    "arr_slice\n"
   ],
   "id": "306ca6907268e27e",
   "outputs": [
    {
     "data": {
      "text/plain": [
       "array(['1.0', '1.5', '2.0', '2.5', '12', '12', '12', '12', '12', '12',\n",
       "       '6.0', '6.5', '7.0', '7.5', '8.0', '8.5', '9.0', '9.5'],\n",
       "      dtype='<U32')"
      ]
     },
     "execution_count": 20,
     "metadata": {},
     "output_type": "execute_result"
    }
   ],
   "execution_count": 20
  },
  {
   "metadata": {},
   "cell_type": "markdown",
   "source": "",
   "id": "dd530c06402a961b"
  },
  {
   "metadata": {
    "ExecuteTime": {
     "end_time": "2024-07-18T16:48:06.258815Z",
     "start_time": "2024-07-18T16:48:06.250951Z"
    }
   },
   "cell_type": "code",
   "source": [
    "names = np.array([['Bob', 'Jon', 'Alan']*2]*2)\n",
    "names[:,1:5:3] = 'Ivan'\n",
    "names"
   ],
   "id": "c76de83fbcd3fb22",
   "outputs": [
    {
     "data": {
      "text/plain": [
       "array([['Bob', 'Ivan', 'Alan', 'Bob', 'Ivan', 'Alan'],\n",
       "       ['Bob', 'Ivan', 'Alan', 'Bob', 'Ivan', 'Alan']], dtype='<U4')"
      ]
     },
     "execution_count": 27,
     "metadata": {},
     "output_type": "execute_result"
    }
   ],
   "execution_count": 27
  },
  {
   "metadata": {
    "ExecuteTime": {
     "end_time": "2024-07-18T16:58:00.817084Z",
     "start_time": "2024-07-18T16:58:00.809518Z"
    }
   },
   "cell_type": "code",
   "source": [
    "bord = np.empty((8,8))\n",
    "bord = np.full_like(bord, '*', dtype=str)\n",
    "bord[::2, 1::2], bord[1::2,::2] = '#', '#'\n",
    "bord"
   ],
   "id": "783c9284a2545019",
   "outputs": [
    {
     "data": {
      "text/plain": [
       "array([['*', '#', '*', '#', '*', '#', '*', '#'],\n",
       "       ['#', '*', '#', '*', '#', '*', '#', '*'],\n",
       "       ['*', '#', '*', '#', '*', '#', '*', '#'],\n",
       "       ['#', '*', '#', '*', '#', '*', '#', '*'],\n",
       "       ['*', '#', '*', '#', '*', '#', '*', '#'],\n",
       "       ['#', '*', '#', '*', '#', '*', '#', '*'],\n",
       "       ['*', '#', '*', '#', '*', '#', '*', '#'],\n",
       "       ['#', '*', '#', '*', '#', '*', '#', '*']], dtype='<U1')"
      ]
     },
     "execution_count": 37,
     "metadata": {},
     "output_type": "execute_result"
    }
   ],
   "execution_count": 37
  },
  {
   "metadata": {},
   "cell_type": "code",
   "outputs": [],
   "execution_count": null,
   "source": "",
   "id": "90920ed95c752fde"
  }
 ],
 "metadata": {
  "kernelspec": {
   "display_name": "Python 3",
   "language": "python",
   "name": "python3"
  },
  "language_info": {
   "codemirror_mode": {
    "name": "ipython",
    "version": 2
   },
   "file_extension": ".py",
   "mimetype": "text/x-python",
   "name": "python",
   "nbconvert_exporter": "python",
   "pygments_lexer": "ipython2",
   "version": "2.7.6"
  }
 },
 "nbformat": 4,
 "nbformat_minor": 5
}
