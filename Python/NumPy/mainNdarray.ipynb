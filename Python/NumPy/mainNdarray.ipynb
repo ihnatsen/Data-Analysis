{
 "cells": [
  {
   "cell_type": "code",
   "id": "initial_id",
   "metadata": {
    "collapsed": true,
    "ExecuteTime": {
     "end_time": "2024-07-18T15:30:32.351346Z",
     "start_time": "2024-07-18T15:30:32.030107Z"
    }
   },
   "source": "import numpy as np",
   "outputs": [],
   "execution_count": 2
  },
  {
   "metadata": {
    "ExecuteTime": {
     "end_time": "2024-07-18T15:31:17.861731Z",
     "start_time": "2024-07-18T15:31:17.851758Z"
    }
   },
   "cell_type": "code",
   "source": [
    "data = np.array([[1, 2, 3],\n",
    "                [4, 5, 6],\n",
    "                [7, 8, 9]])\n",
    "data"
   ],
   "id": "a5ad20988b742099",
   "outputs": [
    {
     "data": {
      "text/plain": [
       "array([[1, 2, 3],\n",
       "       [4, 5, 6],\n",
       "       [7, 8, 9]])"
      ]
     },
     "execution_count": 7,
     "metadata": {},
     "output_type": "execute_result"
    }
   ],
   "execution_count": 7
  },
  {
   "metadata": {
    "ExecuteTime": {
     "end_time": "2024-07-18T15:31:41.125223Z",
     "start_time": "2024-07-18T15:31:41.115984Z"
    }
   },
   "cell_type": "code",
   "source": "data + data",
   "id": "ebb43ec5a3905b6c",
   "outputs": [
    {
     "data": {
      "text/plain": [
       "array([[ 2,  4,  6],\n",
       "       [ 8, 10, 12],\n",
       "       [14, 16, 18]])"
      ]
     },
     "execution_count": 8,
     "metadata": {},
     "output_type": "execute_result"
    }
   ],
   "execution_count": 8
  },
  {
   "metadata": {},
   "cell_type": "code",
   "outputs": [],
   "execution_count": null,
   "source": "# attribute shape and dtype",
   "id": "3605d29c4dd24a67"
  },
  {
   "metadata": {
    "ExecuteTime": {
     "end_time": "2024-07-18T15:32:44.762212Z",
     "start_time": "2024-07-18T15:32:44.756281Z"
    }
   },
   "cell_type": "code",
   "source": "data.shape",
   "id": "df0a03cf04371451",
   "outputs": [
    {
     "data": {
      "text/plain": [
       "(3, 3)"
      ]
     },
     "execution_count": 9,
     "metadata": {},
     "output_type": "execute_result"
    }
   ],
   "execution_count": 9
  },
  {
   "metadata": {
    "ExecuteTime": {
     "end_time": "2024-07-18T15:33:25.388440Z",
     "start_time": "2024-07-18T15:33:25.381306Z"
    }
   },
   "cell_type": "code",
   "source": "data.dtype",
   "id": "4fdd651af5bc66b3",
   "outputs": [
    {
     "data": {
      "text/plain": [
       "dtype('int64')"
      ]
     },
     "execution_count": 10,
     "metadata": {},
     "output_type": "execute_result"
    }
   ],
   "execution_count": 10
  },
  {
   "metadata": {},
   "cell_type": "code",
   "outputs": [],
   "execution_count": null,
   "source": "# new ndarray",
   "id": "86d7521907a2cef1"
  },
  {
   "metadata": {
    "ExecuteTime": {
     "end_time": "2024-07-18T15:39:00.234236Z",
     "start_time": "2024-07-18T15:39:00.228556Z"
    }
   },
   "cell_type": "code",
   "source": [
    "data1 = np.array([[[1.0, 2.2, 3.3, 3], \n",
    "                  [0., 0., 0., 3]]])\n",
    "\n",
    "print(data1.ndim) # return number axes\n",
    "print(data1.shape) # return numbers elements in axes as array\n"
   ],
   "id": "8e50cc5908772430",
   "outputs": [
    {
     "name": "stdout",
     "output_type": "stream",
     "text": [
      "3\n",
      "(1, 2, 4)\n"
     ]
    }
   ],
   "execution_count": 18
  },
  {
   "metadata": {
    "ExecuteTime": {
     "end_time": "2024-07-18T15:40:29.385390Z",
     "start_time": "2024-07-18T15:40:29.379800Z"
    }
   },
   "cell_type": "code",
   "source": "data1.dtype",
   "id": "6bbef8705b3d2f25",
   "outputs": [
    {
     "data": {
      "text/plain": [
       "dtype('float64')"
      ]
     },
     "execution_count": 19,
     "metadata": {},
     "output_type": "execute_result"
    }
   ],
   "execution_count": 19
  },
  {
   "metadata": {},
   "cell_type": "code",
   "outputs": [],
   "execution_count": null,
   "source": "# foo np.zeros and np.one",
   "id": "48b796768217e1d3"
  },
  {
   "metadata": {
    "ExecuteTime": {
     "end_time": "2024-07-18T15:42:47.198726Z",
     "start_time": "2024-07-18T15:42:47.193499Z"
    }
   },
   "cell_type": "code",
   "source": [
    "#         z, y, x\n",
    "np.zeros((1, 2, 3))"
   ],
   "id": "d3e11d7c2802d6ec",
   "outputs": [
    {
     "data": {
      "text/plain": [
       "array([[[0., 0., 0.],\n",
       "        [0., 0., 0.]]])"
      ]
     },
     "execution_count": 24,
     "metadata": {},
     "output_type": "execute_result"
    }
   ],
   "execution_count": 24
  },
  {
   "metadata": {
    "ExecuteTime": {
     "end_time": "2024-07-18T15:41:31.919086Z",
     "start_time": "2024-07-18T15:41:31.911726Z"
    }
   },
   "cell_type": "code",
   "source": "np.ones(10)",
   "id": "5c82460d16f7121d",
   "outputs": [
    {
     "data": {
      "text/plain": [
       "array([1., 1., 1., 1., 1., 1., 1., 1., 1., 1.])"
      ]
     },
     "execution_count": 21,
     "metadata": {},
     "output_type": "execute_result"
    }
   ],
   "execution_count": 21
  },
  {
   "metadata": {
    "ExecuteTime": {
     "end_time": "2024-07-18T15:43:24.367762Z",
     "start_time": "2024-07-18T15:43:24.360855Z"
    }
   },
   "cell_type": "code",
   "source": "np.empty([1,2,3])",
   "id": "75f93b9bfda86388",
   "outputs": [
    {
     "data": {
      "text/plain": [
       "array([[[0., 0., 0.],\n",
       "        [0., 0., 0.]]])"
      ]
     },
     "execution_count": 27,
     "metadata": {},
     "output_type": "execute_result"
    }
   ],
   "execution_count": 27
  },
  {
   "metadata": {
    "ExecuteTime": {
     "end_time": "2024-07-18T15:44:22.793510Z",
     "start_time": "2024-07-18T15:44:22.787011Z"
    }
   },
   "cell_type": "code",
   "source": "np.arange(0, 10, 0.5)",
   "id": "7cf2af94abbc9c31",
   "outputs": [
    {
     "data": {
      "text/plain": [
       "array([0. , 0.5, 1. , 1.5, 2. , 2.5, 3. , 3.5, 4. , 4.5, 5. , 5.5, 6. ,\n",
       "       6.5, 7. , 7.5, 8. , 8.5, 9. , 9.5])"
      ]
     },
     "execution_count": 28,
     "metadata": {},
     "output_type": "execute_result"
    }
   ],
   "execution_count": 28
  },
  {
   "metadata": {
    "ExecuteTime": {
     "end_time": "2024-07-18T15:44:40.415902Z",
     "start_time": "2024-07-18T15:44:40.409495Z"
    }
   },
   "cell_type": "code",
   "source": "np.arange(10, 1, -0.5)",
   "id": "ef138ed2f25707a2",
   "outputs": [
    {
     "data": {
      "text/plain": [
       "array([10. ,  9.5,  9. ,  8.5,  8. ,  7.5,  7. ,  6.5,  6. ,  5.5,  5. ,\n",
       "        4.5,  4. ,  3.5,  3. ,  2.5,  2. ,  1.5])"
      ]
     },
     "execution_count": 29,
     "metadata": {},
     "output_type": "execute_result"
    }
   ],
   "execution_count": 29
  },
  {
   "metadata": {
    "ExecuteTime": {
     "end_time": "2024-07-18T15:47:34.146991Z",
     "start_time": "2024-07-18T15:47:34.138178Z"
    }
   },
   "cell_type": "code",
   "source": [
    "a = np.array([1, 2, 3])\n",
    "b = a \n",
    "print(id(a), id(b))\n",
    "a[0] = -1\n",
    "print(a, b)"
   ],
   "id": "9f80602b43ef5d74",
   "outputs": [
    {
     "name": "stdout",
     "output_type": "stream",
     "text": [
      "2540089447440 2540089447440\n",
      "[-1  2  3] [-1  2  3]\n"
     ]
    }
   ],
   "execution_count": 35
  },
  {
   "metadata": {
    "ExecuteTime": {
     "end_time": "2024-07-18T15:48:33.329973Z",
     "start_time": "2024-07-18T15:48:33.324807Z"
    }
   },
   "cell_type": "code",
   "source": [
    "a = np.array([1, 2, 3])\n",
    "b = np.array(a)\n",
    "print(f'a: {id(a)} b:{id(b)}')\n",
    "a[1] = -1\n",
    "print(a, b)"
   ],
   "id": "701bc912d1493328",
   "outputs": [
    {
     "name": "stdout",
     "output_type": "stream",
     "text": [
      "a: 2540089450416 b:2540089452720\n",
      "[ 1 -1  3] [1 2 3]\n"
     ]
    }
   ],
   "execution_count": 37
  },
  {
   "metadata": {
    "ExecuteTime": {
     "end_time": "2024-07-18T15:49:04.291753Z",
     "start_time": "2024-07-18T15:49:04.282525Z"
    }
   },
   "cell_type": "code",
   "source": [
    "a = np.array([1, 2, 3])\n",
    "b = np.asanyarray(a)\n",
    "print(f'a: {id(a)} b:{id(b)}')\n",
    "a[1] = -1\n",
    "print(a, b)"
   ],
   "id": "137a40329439811b",
   "outputs": [
    {
     "name": "stdout",
     "output_type": "stream",
     "text": [
      "a: 2540089453680 b:2540089453680\n",
      "[ 1 -1  3] [ 1 -1  3]\n"
     ]
    }
   ],
   "execution_count": 38
  },
  {
   "metadata": {
    "ExecuteTime": {
     "end_time": "2024-07-18T15:49:47.493063Z",
     "start_time": "2024-07-18T15:49:47.487553Z"
    }
   },
   "cell_type": "code",
   "source": [
    "a = [1, 2, 3]\n",
    "b = np.asanyarray(a)\n",
    "print(f'a: {id(a)} b:{id(b)}')\n",
    "b[1] = 0\n",
    "print(a, b)\n"
   ],
   "id": "3a6f8bb7a5a77d95",
   "outputs": [
    {
     "name": "stdout",
     "output_type": "stream",
     "text": [
      "a: 2540088953024 b:2540089452912\n",
      "[1, 2, 3] [1 0 3]\n"
     ]
    }
   ],
   "execution_count": 40
  },
  {
   "metadata": {
    "ExecuteTime": {
     "end_time": "2024-07-18T16:00:02.718369Z",
     "start_time": "2024-07-18T16:00:02.710877Z"
    }
   },
   "cell_type": "code",
   "source": [
    "x,y = np.random.randint(0, 3, 2)\n",
    "a = np.ones((y, x))\n",
    "np.ones_like(a)"
   ],
   "id": "9861bbc18b58ee89",
   "outputs": [
    {
     "data": {
      "text/plain": [
       "array([], shape=(0, 1), dtype=float64)"
      ]
     },
     "execution_count": 79,
     "metadata": {},
     "output_type": "execute_result"
    }
   ],
   "execution_count": 79
  },
  {
   "metadata": {},
   "cell_type": "code",
   "outputs": [],
   "execution_count": null,
   "source": [
    "x,y = np.random.randint(0, 3, 2)\n",
    "a = np.zeros((y, x))\n",
    "np.zeros_like(a)"
   ],
   "id": "dff4920de24783a7"
  },
  {
   "metadata": {
    "ExecuteTime": {
     "end_time": "2024-07-18T16:00:57.878909Z",
     "start_time": "2024-07-18T16:00:57.872729Z"
    }
   },
   "cell_type": "code",
   "source": [
    "x,y = np.random.randint(0, 3, 2)\n",
    "a = np.empty((y, x))\n",
    "np.empty_like(a)"
   ],
   "id": "c3d84e612b365aa2",
   "outputs": [
    {
     "data": {
      "text/plain": [
       "array([[1.5e-323]])"
      ]
     },
     "execution_count": 86,
     "metadata": {},
     "output_type": "execute_result"
    }
   ],
   "execution_count": 86
  },
  {
   "metadata": {
    "ExecuteTime": {
     "end_time": "2024-07-18T16:07:07.877428Z",
     "start_time": "2024-07-18T16:07:07.870796Z"
    }
   },
   "cell_type": "code",
   "source": [
    "x, y = np.random.randint(0, 3, 2)\n",
    "a = np.full((y, x), ['#']*x)\n",
    "a"
   ],
   "id": "ea10d5cae48ac103",
   "outputs": [
    {
     "data": {
      "text/plain": [
       "array([], shape=(1, 0), dtype=float64)"
      ]
     },
     "execution_count": 128,
     "metadata": {},
     "output_type": "execute_result"
    }
   ],
   "execution_count": 128
  },
  {
   "metadata": {
    "ExecuteTime": {
     "end_time": "2024-07-18T16:07:32.424291Z",
     "start_time": "2024-07-18T16:07:32.416259Z"
    }
   },
   "cell_type": "code",
   "source": [
    "a = np.eye(5)\n",
    "a"
   ],
   "id": "314bd33d773a3058",
   "outputs": [
    {
     "data": {
      "text/plain": [
       "array([[1., 0., 0., 0., 0.],\n",
       "       [0., 1., 0., 0., 0.],\n",
       "       [0., 0., 1., 0., 0.],\n",
       "       [0., 0., 0., 1., 0.],\n",
       "       [0., 0., 0., 0., 1.]])"
      ]
     },
     "execution_count": 131,
     "metadata": {},
     "output_type": "execute_result"
    }
   ],
   "execution_count": 131
  },
  {
   "metadata": {},
   "cell_type": "code",
   "outputs": [],
   "execution_count": null,
   "source": "",
   "id": "d79b34b4e60c9f3a"
  },
  {
   "metadata": {
    "ExecuteTime": {
     "end_time": "2024-07-18T16:07:50.728315Z",
     "start_time": "2024-07-18T16:07:50.722653Z"
    }
   },
   "cell_type": "code",
   "source": [
    "b = np.identity(5)\n",
    "b"
   ],
   "id": "a916dc413487b405",
   "outputs": [
    {
     "data": {
      "text/plain": [
       "array([[1., 0., 0., 0., 0.],\n",
       "       [0., 1., 0., 0., 0.],\n",
       "       [0., 0., 1., 0., 0.],\n",
       "       [0., 0., 0., 1., 0.],\n",
       "       [0., 0., 0., 0., 1.]])"
      ]
     },
     "execution_count": 133,
     "metadata": {},
     "output_type": "execute_result"
    }
   ],
   "execution_count": 133
  },
  {
   "metadata": {
    "ExecuteTime": {
     "end_time": "2024-07-18T16:21:23.526443Z",
     "start_time": "2024-07-18T16:21:23.520625Z"
    }
   },
   "cell_type": "code",
   "source": [
    "a = np.zeros((1, 2, 3), dtype='int64')\n",
    "string = a.astype('str')\n",
    "string"
   ],
   "id": "b578f6f30ad80797",
   "outputs": [
    {
     "data": {
      "text/plain": [
       "array([[['0', '0', '0'],\n",
       "        ['0', '0', '0']]], dtype='<U21')"
      ]
     },
     "execution_count": 141,
     "metadata": {},
     "output_type": "execute_result"
    }
   ],
   "execution_count": 141
  },
  {
   "metadata": {},
   "cell_type": "code",
   "outputs": [],
   "execution_count": null,
   "source": "",
   "id": "fc2e73923d05b297"
  }
 ],
 "metadata": {
  "kernelspec": {
   "display_name": "Python 3",
   "language": "python",
   "name": "python3"
  },
  "language_info": {
   "codemirror_mode": {
    "name": "ipython",
    "version": 2
   },
   "file_extension": ".py",
   "mimetype": "text/x-python",
   "name": "python",
   "nbconvert_exporter": "python",
   "pygments_lexer": "ipython2",
   "version": "2.7.6"
  }
 },
 "nbformat": 4,
 "nbformat_minor": 5
}
