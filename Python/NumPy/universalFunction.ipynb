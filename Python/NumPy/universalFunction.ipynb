{
 "cells": [
  {
   "cell_type": "code",
   "id": "initial_id",
   "metadata": {
    "collapsed": true,
    "ExecuteTime": {
     "end_time": "2024-07-18T20:51:30.767381Z",
     "start_time": "2024-07-18T20:51:30.763366Z"
    }
   },
   "source": [
    "import numpy as np\n",
    "np.random.seed(3)"
   ],
   "outputs": [],
   "execution_count": 78
  },
  {
   "metadata": {
    "ExecuteTime": {
     "end_time": "2024-07-18T20:28:26.506948Z",
     "start_time": "2024-07-18T20:28:26.502318Z"
    }
   },
   "cell_type": "code",
   "source": "arr = np.arange(1,11)",
   "id": "92b705b8dc825f94",
   "outputs": [],
   "execution_count": 2
  },
  {
   "metadata": {
    "ExecuteTime": {
     "end_time": "2024-07-18T20:28:34.141999Z",
     "start_time": "2024-07-18T20:28:34.130394Z"
    }
   },
   "cell_type": "code",
   "source": "np.sqrt(arr)",
   "id": "de255ecc126ea90b",
   "outputs": [
    {
     "data": {
      "text/plain": [
       "array([1.        , 1.41421356, 1.73205081, 2.        , 2.23606798,\n",
       "       2.44948974, 2.64575131, 2.82842712, 3.        , 3.16227766])"
      ]
     },
     "execution_count": 3,
     "metadata": {},
     "output_type": "execute_result"
    }
   ],
   "execution_count": 3
  },
  {
   "metadata": {
    "ExecuteTime": {
     "end_time": "2024-07-18T20:28:42.469726Z",
     "start_time": "2024-07-18T20:28:42.461289Z"
    }
   },
   "cell_type": "code",
   "source": "np.exp(arr)",
   "id": "12c96328ae1b8a74",
   "outputs": [
    {
     "data": {
      "text/plain": [
       "array([2.71828183e+00, 7.38905610e+00, 2.00855369e+01, 5.45981500e+01,\n",
       "       1.48413159e+02, 4.03428793e+02, 1.09663316e+03, 2.98095799e+03,\n",
       "       8.10308393e+03, 2.20264658e+04])"
      ]
     },
     "execution_count": 4,
     "metadata": {},
     "output_type": "execute_result"
    }
   ],
   "execution_count": 4
  },
  {
   "metadata": {
    "ExecuteTime": {
     "end_time": "2024-07-18T20:30:40.286937Z",
     "start_time": "2024-07-18T20:30:40.277720Z"
    }
   },
   "cell_type": "code",
   "source": [
    "x = np.random.standard_normal(100)\n",
    "y = np.random.standard_normal(100)\n",
    "np.maximum(x,y)"
   ],
   "id": "75b3bfd80c65f434",
   "outputs": [
    {
     "data": {
      "text/plain": [
       "array([ 0.33971662, -0.29270437,  1.23852532, -0.28277263,  2.13658481,\n",
       "        1.13595767, -0.67178404,  0.09979655,  0.0666037 ,  1.76715695,\n",
       "        1.00234881,  0.71021841,  0.59319512, -0.13165615,  0.80262685,\n",
       "        0.3537665 , -0.26671187,  0.11421218,  0.95752518, -0.24487092,\n",
       "        1.02897923,  2.12168862, -0.19112228,  1.33913429,  2.38332472,\n",
       "        0.92953121,  1.92052323,  0.52732297, -0.27539958,  0.17645551,\n",
       "        0.07517357,  0.73765027,  1.83185711,  0.28482814, -0.14932511,\n",
       "        1.84554355,  0.18592395,  1.27355572,  1.17425446, -0.9221831 ,\n",
       "       -0.14167264,  0.1931112 ,  1.04504603,  0.83536594,  1.49282897,\n",
       "       -0.48905504,  1.35938856,  1.57953931,  0.45300913,  0.62629638,\n",
       "       -0.30066218, -0.02321274,  3.08181607,  1.50015143,  0.28901586,\n",
       "        1.05837376, -0.44168195,  1.43677608,  0.00669128,  1.21358054,\n",
       "       -0.01272422,  0.51131766,  1.7363979 ,  0.04870631,  2.25930291,\n",
       "        1.48618948, -0.19945068,  1.858042  ,  0.36281962,  1.46146744,\n",
       "        0.96997277, -0.57189453,  0.76443084, -0.1491883 ,  1.27327388,\n",
       "        0.176769  , -0.45023358,  1.61827689,  1.602951  ,  0.16605722,\n",
       "        1.45803047,  0.66549172, -0.21433356,  0.65618035,  0.12202407,\n",
       "        0.11050391,  0.37061055,  1.25791831, -0.12227094,  0.39133941,\n",
       "       -0.33131498,  0.8350144 ,  0.32841369,  0.10968174,  1.1799793 ,\n",
       "        0.610214  ,  0.41617079,  0.90757698,  0.79571652, -0.53147607])"
      ]
     },
     "execution_count": 8,
     "metadata": {},
     "output_type": "execute_result"
    }
   ],
   "execution_count": 8
  },
  {
   "metadata": {
    "ExecuteTime": {
     "end_time": "2024-07-18T20:31:46.358248Z",
     "start_time": "2024-07-18T20:31:46.349792Z"
    }
   },
   "cell_type": "code",
   "source": [
    "arr = np.arange(1,11) + np.random.rand(10)\n",
    "arr"
   ],
   "id": "de7a940db7d9e3e9",
   "outputs": [
    {
     "data": {
      "text/plain": [
       "array([ 1.60049118,  2.24104986,  3.49483808,  4.07762164,  5.56722873,\n",
       "        6.757899  ,  7.57541466,  8.32368367,  9.83920758, 10.65932885])"
      ]
     },
     "execution_count": 12,
     "metadata": {},
     "output_type": "execute_result"
    }
   ],
   "execution_count": 12
  },
  {
   "metadata": {
    "ExecuteTime": {
     "end_time": "2024-07-18T20:32:29.625778Z",
     "start_time": "2024-07-18T20:32:29.619051Z"
    }
   },
   "cell_type": "code",
   "source": [
    "remainder, whole_part = np.modf(arr)\n",
    "remainder, whole_part"
   ],
   "id": "d391c1d4ff3f2883",
   "outputs": [
    {
     "data": {
      "text/plain": [
       "(array([0.60049118, 0.24104986, 0.49483808, 0.07762164, 0.56722873,\n",
       "        0.757899  , 0.57541466, 0.32368367, 0.83920758, 0.65932885]),\n",
       " array([ 1.,  2.,  3.,  4.,  5.,  6.,  7.,  8.,  9., 10.]))"
      ]
     },
     "execution_count": 16,
     "metadata": {},
     "output_type": "execute_result"
    }
   ],
   "execution_count": 16
  },
  {
   "metadata": {
    "ExecuteTime": {
     "end_time": "2024-07-18T20:34:23.747806Z",
     "start_time": "2024-07-18T20:34:23.739491Z"
    }
   },
   "cell_type": "code",
   "source": [
    "new_arr = np.arange(1,11, dtype='float64') \n",
    "np.sqrt(new_arr, out=new_arr)\n",
    "new_arr"
   ],
   "id": "ca751a457aae91e4",
   "outputs": [
    {
     "data": {
      "text/plain": [
       "array([1.        , 1.41421356, 1.73205081, 2.        , 2.23606798,\n",
       "       2.44948974, 2.64575131, 2.82842712, 3.        , 3.16227766])"
      ]
     },
     "execution_count": 27,
     "metadata": {},
     "output_type": "execute_result"
    }
   ],
   "execution_count": 27
  },
  {
   "metadata": {
    "ExecuteTime": {
     "end_time": "2024-07-18T20:38:03.999378Z",
     "start_time": "2024-07-18T20:38:03.991395Z"
    }
   },
   "cell_type": "code",
   "source": [
    "z_numbers = np.array([i+i*1j for i in range(10)])\n",
    "new_arr = np.empty_like(z_numbers, dtype='float64')\n",
    "np.abs(z_numbers, out=new_arr)"
   ],
   "id": "2187c01f3020baf7",
   "outputs": [
    {
     "data": {
      "text/plain": [
       "array([ 0.        ,  1.41421356,  2.82842712,  4.24264069,  5.65685425,\n",
       "        7.07106781,  8.48528137,  9.89949494, 11.3137085 , 12.72792206])"
      ]
     },
     "execution_count": 36,
     "metadata": {},
     "output_type": "execute_result"
    }
   ],
   "execution_count": 36
  },
  {
   "metadata": {
    "ExecuteTime": {
     "end_time": "2024-07-18T20:57:47.014167Z",
     "start_time": "2024-07-18T20:57:47.006923Z"
    }
   },
   "cell_type": "code",
   "source": [
    "arr = np.array([np.random.randint(0, 100, 42), np.zeros(42)])\n",
    "arr_test = arr.reshape(84)\n",
    "arr_test[0] = 1000\n",
    "np.random.shuffle(arr_test)\n",
    "print(arr)"
   ],
   "id": "66b59cb3c0919385",
   "outputs": [
    {
     "name": "stdout",
     "output_type": "stream",
     "text": [
      "[[  99.   96.    3.   70.   78.    0.   45.    0.   31.    0.   34.   93.\n",
      "     0.    0.   83.    0.    0.    0.   16.    0.    0.    0.    0.    0.\n",
      "    62.   18.    0.    0.    0.    0.   25.    0.    0.   15.   41.   36.\n",
      "    16.   27.   14.    0.    0.   85.]\n",
      " [1000.    0.   35.   37.   88.   89.    0.   85.    0.    0.    0.   15.\n",
      "    47.    0.    6.    0.    0.    0.   82.   75.    0.    0.   83.    0.\n",
      "     0.   81.    0.    0.   54.   85.   99.   54.   96.    0.    0.    0.\n",
      "     0.    0.   79.    0.   82.    0.]]\n"
     ]
    }
   ],
   "execution_count": 126
  },
  {
   "metadata": {
    "ExecuteTime": {
     "end_time": "2024-07-18T20:52:32.850116Z",
     "start_time": "2024-07-18T20:52:32.847372Z"
    }
   },
   "cell_type": "code",
   "source": "",
   "id": "6a5b276844e378eb",
   "outputs": [],
   "execution_count": 83
  },
  {
   "metadata": {},
   "cell_type": "code",
   "outputs": [],
   "execution_count": null,
   "source": "",
   "id": "ec5dc3c4877c516e"
  }
 ],
 "metadata": {
  "kernelspec": {
   "display_name": "Python 3",
   "language": "python",
   "name": "python3"
  },
  "language_info": {
   "codemirror_mode": {
    "name": "ipython",
    "version": 2
   },
   "file_extension": ".py",
   "mimetype": "text/x-python",
   "name": "python",
   "nbconvert_exporter": "python",
   "pygments_lexer": "ipython2",
   "version": "2.7.6"
  }
 },
 "nbformat": 4,
 "nbformat_minor": 5
}
